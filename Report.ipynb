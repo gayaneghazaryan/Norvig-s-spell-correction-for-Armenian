{
 "cells": [
  {
   "cell_type": "code",
   "execution_count": 10,
   "metadata": {},
   "outputs": [],
   "source": [
    "from utils import import_text\n",
    "from spell_checker import Spell_checker"
   ]
  },
  {
   "attachments": {},
   "cell_type": "markdown",
   "metadata": {},
   "source": [
    "Import Data"
   ]
  },
  {
   "cell_type": "code",
   "execution_count": 11,
   "metadata": {},
   "outputs": [],
   "source": [
    "text = import_text()"
   ]
  },
  {
   "attachments": {},
   "cell_type": "markdown",
   "metadata": {},
   "source": [
    "Initialize spell checker"
   ]
  },
  {
   "cell_type": "code",
   "execution_count": 12,
   "metadata": {},
   "outputs": [],
   "source": [
    "spell_checker = Spell_checker(text)"
   ]
  },
  {
   "attachments": {},
   "cell_type": "markdown",
   "metadata": {},
   "source": [
    "Samples"
   ]
  },
  {
   "cell_type": "code",
   "execution_count": 13,
   "metadata": {},
   "outputs": [
    {
     "data": {
      "text/plain": [
       "[('գործ', 1.35),\n",
       " ('գործի', 1.2),\n",
       " ('գործը', 1.2),\n",
       " ('գործն', 1.2),\n",
       " ('գորշ', 0.84),\n",
       " ('փորձ', 0.76),\n",
       " ('փորձը', 0.6),\n",
       " ('փորձի', 0.6),\n",
       " ('փորձն', 0.6)]"
      ]
     },
     "execution_count": 13,
     "metadata": {},
     "output_type": "execute_result"
    }
   ],
   "source": [
    "spell_checker.find_correction('գորձ')"
   ]
  },
  {
   "cell_type": "code",
   "execution_count": 14,
   "metadata": {},
   "outputs": [
    {
     "data": {
      "text/plain": [
       "[('գաղտնի', 1.25), ('բախտ', 1.1)]"
      ]
     },
     "execution_count": 14,
     "metadata": {},
     "output_type": "execute_result"
    }
   ],
   "source": [
    "spell_checker.find_correction('գախտն')"
   ]
  },
  {
   "cell_type": "code",
   "execution_count": 15,
   "metadata": {},
   "outputs": [
    {
     "data": {
      "text/plain": [
       "'Վրիպակ չկա'"
      ]
     },
     "execution_count": 15,
     "metadata": {},
     "output_type": "execute_result"
    }
   ],
   "source": [
    "spell_checker.find_correction('դնել')"
   ]
  },
  {
   "cell_type": "code",
   "execution_count": 16,
   "metadata": {},
   "outputs": [
    {
     "data": {
      "text/plain": [
       "'Շտկման տարբերակ չկա'"
      ]
     },
     "execution_count": 16,
     "metadata": {},
     "output_type": "execute_result"
    }
   ],
   "source": [
    "spell_checker.find_correction('աֆգդֆգտ')"
   ]
  },
  {
   "attachments": {},
   "cell_type": "markdown",
   "metadata": {},
   "source": [
    "Limitations"
   ]
  },
  {
   "attachments": {},
   "cell_type": "markdown",
   "metadata": {},
   "source": [
    "1. Limited data and narrow topics - can impact the accuracy and coverage of the suggested corrections\n",
    "2. Difficulty of normalizing data - i.e. not capitalizing a word is considered a spelling mistake but addressing this accurately can be complex\n",
    "3. Handling grammatical rules - incorporating all grammatical rules is challenging\n",
    "4. Keyboard proximity - considers only the Armenian Phonetic Keyboard\n",
    "5. Weight assignment for factors - assigning appropriate weights to factors like keyboard proximity, word frequency, and letter groups requires a solid foundation or empirical data\n"
   ]
  },
  {
   "attachments": {},
   "cell_type": "markdown",
   "metadata": {},
   "source": [
    "Further Improvements"
   ]
  },
  {
   "attachments": {},
   "cell_type": "markdown",
   "metadata": {},
   "source": [
    "1. Increase data coverage across various topics.\n",
    "2. Enhance data normalization techniques.\n",
    "3. Incorporate grammatical rules for better accuracy.\n",
    "4. Customize keyboard proximity based on user settings.\n",
    "5. Optimize weight parameters through hyperparameter tuning."
   ]
  }
 ],
 "metadata": {
  "kernelspec": {
   "display_name": "Python 3",
   "language": "python",
   "name": "python3"
  },
  "language_info": {
   "codemirror_mode": {
    "name": "ipython",
    "version": 3
   },
   "file_extension": ".py",
   "mimetype": "text/x-python",
   "name": "python",
   "nbconvert_exporter": "python",
   "pygments_lexer": "ipython3",
   "version": "3.10.11"
  },
  "orig_nbformat": 4
 },
 "nbformat": 4,
 "nbformat_minor": 2
}
